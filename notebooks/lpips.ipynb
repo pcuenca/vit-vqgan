{
 "cells": [
  {
   "cell_type": "markdown",
   "id": "f2455b24",
   "metadata": {},
   "source": [
    "# Perceptual loss"
   ]
  },
  {
   "cell_type": "markdown",
   "id": "3207a670",
   "metadata": {},
   "source": [
    "JAX port of lpips, as implemented in [Taming Transformers](https://github.com/CompVis/taming-transformers/blob/master/taming/modules/losses/lpips.py) and [richzhang/PerceptualSimilarity](https://github.com/richzhang/PerceptualSimilarity/blob/31bc1271ae6f13b7e281b9959ac24a5e8f2ed522/lpips/pretrained_networks.py)"
   ]
  },
  {
   "cell_type": "code",
   "execution_count": 1,
   "id": "9c5a77f4",
   "metadata": {},
   "outputs": [],
   "source": [
    "from flaxmodels import VGG16"
   ]
  },
  {
   "cell_type": "code",
   "execution_count": 2,
   "id": "f9f1b7d9",
   "metadata": {},
   "outputs": [],
   "source": [
    "import random\n",
    "import jax\n",
    "import jax.numpy as jnp\n",
    "import flax.linen as nn"
   ]
  },
  {
   "cell_type": "markdown",
   "id": "82aa4d3e",
   "metadata": {},
   "source": [
    "We need PyTorch to download the weights for the additional layers."
   ]
  },
  {
   "cell_type": "code",
   "execution_count": 3,
   "id": "ddfcb2f7",
   "metadata": {},
   "outputs": [],
   "source": [
    "import torch"
   ]
  },
  {
   "cell_type": "code",
   "execution_count": 4,
   "id": "be67cccc",
   "metadata": {},
   "outputs": [],
   "source": [
    "seed = random.randint(0, 2**32 - 1)\n",
    "key = jax.random.PRNGKey(seed)\n",
    "key, subkey = jax.random.split(key)\n",
    "x = jax.random.normal(key, shape=(8, 256, 256, 3))\n",
    "target = jax.random.normal(subkey, shape=(8, 256, 256, 3))"
   ]
  },
  {
   "cell_type": "code",
   "execution_count": 5,
   "id": "a5efc30c",
   "metadata": {},
   "outputs": [],
   "source": [
    "# Is there a module for this?\n",
    "mse = lambda x, y: jnp.mean((x - y) ** 2)"
   ]
  },
  {
   "cell_type": "code",
   "execution_count": 6,
   "id": "b6119143",
   "metadata": {},
   "outputs": [],
   "source": [
    "class NetLinLayer(nn.Module):\n",
    "    kernel_size = (1,1)\n",
    "    \n",
    "    def setup(self):\n",
    "        self.layer = nn.Conv(1, self.kernel_size, strides=None, padding=0, use_bias=False)\n",
    "        \n",
    "    def __call__(self, x):\n",
    "        x = self.layer(x)\n",
    "        return x"
   ]
  },
  {
   "cell_type": "code",
   "execution_count": 7,
   "id": "b92b0c45",
   "metadata": {},
   "outputs": [],
   "source": [
    "class LPIPS(nn.Module):    \n",
    "    def setup(self):\n",
    "        # We don't add a scaling layer because I think `VGG16` already includes it\n",
    "        # To be verified\n",
    "        self.feature_names = ['relu1_2', 'relu2_2', 'relu3_3', 'relu4_3', 'relu5_3']\n",
    "        \n",
    "        self.vgg = VGG16(output='activations', pretrained='imagenet', include_head=False)\n",
    "        self.lins = [NetLinLayer() for _ in range(len(self.feature_names))]\n",
    "        \n",
    "    def __call__(self, x, t):\n",
    "        x = self.vgg((x + 1) / 2)\n",
    "        t = self.vgg((t + 1) / 2)\n",
    "            \n",
    "        feats_x, feats_t, diffs = {}, {}, {}\n",
    "        for i, f in enumerate(self.feature_names):\n",
    "            feats_x[i], feats_t[i] = normalize_tensor(x[f]), normalize_tensor(t[f])\n",
    "            diffs[i] = (feats_x[i] - feats_t[i]) ** 2\n",
    "\n",
    "        # We should maybe vectorize this better\n",
    "        res = [spatial_average(self.lins[i](diffs[i]), keepdims=True) for i in range(len(self.feature_names))]\n",
    "        \n",
    "        val = res[0]\n",
    "        for i in range(1, len(res)):\n",
    "            val += res[i]\n",
    "        return val"
   ]
  },
  {
   "cell_type": "code",
   "execution_count": 8,
   "id": "6503ed52",
   "metadata": {},
   "outputs": [],
   "source": [
    "def normalize_tensor(x, eps=1e-10):\n",
    "    # Use `-1` because we are channel-last\n",
    "    norm_factor = jnp.sqrt(jnp.sum(x**2, axis=-1, keepdims=True))\n",
    "    return x / (norm_factor + eps)"
   ]
  },
  {
   "cell_type": "code",
   "execution_count": 9,
   "id": "09bd5847",
   "metadata": {},
   "outputs": [],
   "source": [
    "def spatial_average(x, keepdims=True):\n",
    "    # Mean over W, H\n",
    "    return jnp.mean(x, axis=[1, 2], keepdims=keepdims)"
   ]
  },
  {
   "cell_type": "code",
   "execution_count": 10,
   "id": "b6b66ba9",
   "metadata": {},
   "outputs": [],
   "source": [
    "lpips = LPIPS()"
   ]
  },
  {
   "cell_type": "code",
   "execution_count": 11,
   "id": "230f1f42",
   "metadata": {
    "scrolled": false
   },
   "outputs": [],
   "source": [
    "params = lpips.init(key, x, x)"
   ]
  },
  {
   "cell_type": "code",
   "execution_count": 12,
   "id": "e1ccddc8",
   "metadata": {},
   "outputs": [
    {
     "data": {
      "text/plain": [
       "(8, 1, 1, 1)"
      ]
     },
     "execution_count": 12,
     "metadata": {},
     "output_type": "execute_result"
    }
   ],
   "source": [
    "res = lpips.apply(params, x, target)\n",
    "res.shape"
   ]
  },
  {
   "cell_type": "markdown",
   "id": "e1611b91",
   "metadata": {},
   "source": [
    "**TODO**:\n",
    "- [ ] Load pretrained weights of linear layers (beware of convolution transpose).\n",
    "- [ ] Create a test to compare results against Taming Transformers."
   ]
  },
  {
   "cell_type": "markdown",
   "id": "6af0191b",
   "metadata": {},
   "source": [
    "----"
   ]
  },
  {
   "cell_type": "code",
   "execution_count": 13,
   "id": "8c42a7f7",
   "metadata": {},
   "outputs": [
    {
     "data": {
      "text/plain": [
       "odict_keys(['lin0.model.1.weight', 'lin1.model.1.weight', 'lin2.model.1.weight', 'lin3.model.1.weight', 'lin4.model.1.weight'])"
      ]
     },
     "execution_count": 13,
     "metadata": {},
     "output_type": "execute_result"
    }
   ],
   "source": [
    "additional_weights = torch.load(\"taming/modules/autoencoder/lpips/vgg.pth\", map_location=torch.device(\"cpu\"))\n",
    "additional_weights.keys()"
   ]
  },
  {
   "cell_type": "code",
   "execution_count": null,
   "id": "546687c0",
   "metadata": {},
   "outputs": [],
   "source": []
  }
 ],
 "metadata": {
  "kernelspec": {
   "display_name": "Python 3 (ipykernel)",
   "language": "python",
   "name": "python3"
  },
  "language_info": {
   "codemirror_mode": {
    "name": "ipython",
    "version": 3
   },
   "file_extension": ".py",
   "mimetype": "text/x-python",
   "name": "python",
   "nbconvert_exporter": "python",
   "pygments_lexer": "ipython3",
   "version": "3.9.12"
  }
 },
 "nbformat": 4,
 "nbformat_minor": 5
}
