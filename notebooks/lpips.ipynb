{
 "cells": [
  {
   "cell_type": "markdown",
   "id": "f2455b24",
   "metadata": {},
   "source": [
    "# Perceptual loss"
   ]
  },
  {
   "cell_type": "markdown",
   "id": "3207a670",
   "metadata": {},
   "source": [
    "JAX port of lpips, as implemented in [Taming Transformers](https://github.com/CompVis/taming-transformers/blob/master/taming/modules/losses/lpips.py) and [richzhang/PerceptualSimilarity](https://github.com/richzhang/PerceptualSimilarity/blob/31bc1271ae6f13b7e281b9959ac24a5e8f2ed522/lpips/pretrained_networks.py)"
   ]
  },
  {
   "cell_type": "code",
   "execution_count": 1,
   "id": "9c5a77f4",
   "metadata": {},
   "outputs": [],
   "source": [
    "from flaxmodels import VGG16"
   ]
  },
  {
   "cell_type": "code",
   "execution_count": 2,
   "id": "f9f1b7d9",
   "metadata": {},
   "outputs": [],
   "source": [
    "import h5py\n",
    "import random\n",
    "import jax\n",
    "import jax.numpy as jnp\n",
    "import flax.linen as nn"
   ]
  },
  {
   "cell_type": "code",
   "execution_count": 3,
   "id": "3fb04ad1",
   "metadata": {},
   "outputs": [],
   "source": [
    "seed = random.randint(0, 2**32 - 1)\n",
    "key = jax.random.PRNGKey(seed)\n",
    "key, subkey = jax.random.split(key)\n",
    "x = jax.random.normal(key, shape=(8, 256, 256, 3))\n",
    "target = jax.random.normal(subkey, shape=(8, 256, 256, 3))"
   ]
  },
  {
   "cell_type": "code",
   "execution_count": 4,
   "id": "e50c5b2d",
   "metadata": {},
   "outputs": [],
   "source": [
    "# Is there a module for this?\n",
    "mse = lambda x, y: jnp.mean((x - y) ** 2)"
   ]
  },
  {
   "cell_type": "code",
   "execution_count": 5,
   "id": "e4177f37",
   "metadata": {},
   "outputs": [],
   "source": [
    "class NetLinLayer(nn.Module):\n",
    "    weights: jnp.array\n",
    "    kernel_size = (1,1)\n",
    "    \n",
    "    def setup(self):\n",
    "        w = lambda *_ : self.weights\n",
    "        self.layer = nn.Conv(1, self.kernel_size, kernel_init=w, strides=None, padding=0, use_bias=False)\n",
    "        \n",
    "    def __call__(self, x):\n",
    "        x = self.layer(x)\n",
    "        return x"
   ]
  },
  {
   "cell_type": "code",
   "execution_count": 6,
   "id": "126e3206",
   "metadata": {},
   "outputs": [],
   "source": [
    "class LPIPS(nn.Module):\n",
    "    lin_weights_filename = 'lpips_lin.h5'\n",
    "    \n",
    "    def setup(self):\n",
    "        # We don't add a scaling layer because I think `VGG16` already includes it\n",
    "        # To be verified\n",
    "        self.feature_names = ['relu1_2', 'relu2_2', 'relu3_3', 'relu4_3', 'relu5_3']\n",
    "        \n",
    "        self.vgg = VGG16(output='activations', pretrained='imagenet', include_head=False)\n",
    "        \n",
    "        lin_weights = h5py.File(self.lin_weights_filename)\n",
    "        self.lins = [NetLinLayer(jnp.array(lin_weights[f'lin{i}'])) for i in range(len(self.feature_names))]\n",
    "        \n",
    "    def __call__(self, x, t):\n",
    "        x = self.vgg((x + 1) / 2)\n",
    "        t = self.vgg((t + 1) / 2)\n",
    "            \n",
    "        feats_x, feats_t, diffs = {}, {}, {}\n",
    "        for i, f in enumerate(self.feature_names):\n",
    "            feats_x[i], feats_t[i] = normalize_tensor(x[f]), normalize_tensor(t[f])\n",
    "            diffs[i] = (feats_x[i] - feats_t[i]) ** 2\n",
    "\n",
    "        # We should maybe vectorize this better\n",
    "        res = [spatial_average(self.lins[i](diffs[i]), keepdims=True) for i in range(len(self.feature_names))]\n",
    "        \n",
    "        val = res[0]\n",
    "        for i in range(1, len(res)):\n",
    "            val += res[i]\n",
    "        return val"
   ]
  },
  {
   "cell_type": "code",
   "execution_count": 7,
   "id": "649e1e78",
   "metadata": {},
   "outputs": [],
   "source": [
    "def normalize_tensor(x, eps=1e-10):\n",
    "    # Use `-1` because we are channel-last\n",
    "    norm_factor = jnp.sqrt(jnp.sum(x**2, axis=-1, keepdims=True))\n",
    "    return x / (norm_factor + eps)"
   ]
  },
  {
   "cell_type": "code",
   "execution_count": 8,
   "id": "766ad353",
   "metadata": {},
   "outputs": [],
   "source": [
    "def spatial_average(x, keepdims=True):\n",
    "    # Mean over W, H\n",
    "    return jnp.mean(x, axis=[1, 2], keepdims=keepdims)"
   ]
  },
  {
   "cell_type": "code",
   "execution_count": 9,
   "id": "266af9f3",
   "metadata": {},
   "outputs": [],
   "source": [
    "lpips = LPIPS()"
   ]
  },
  {
   "cell_type": "code",
   "execution_count": 10,
   "id": "18a95cef",
   "metadata": {
    "scrolled": false
   },
   "outputs": [],
   "source": [
    "params = lpips.init(key, x, x)"
   ]
  },
  {
   "cell_type": "code",
   "execution_count": 11,
   "id": "0d87092f",
   "metadata": {},
   "outputs": [
    {
     "data": {
      "text/plain": [
       "(8, 1, 1, 1)"
      ]
     },
     "execution_count": 11,
     "metadata": {},
     "output_type": "execute_result"
    }
   ],
   "source": [
    "res = lpips.apply(params, x, target)\n",
    "res.shape"
   ]
  },
  {
   "cell_type": "markdown",
   "id": "e1ece994",
   "metadata": {},
   "source": [
    "**TODO**:\n",
    "- [x] Load pretrained weights of linear layers (beware of convolution transpose).\n",
    "- [ ] Create a test to compare results against Taming Transformers."
   ]
  },
  {
   "cell_type": "markdown",
   "id": "77bb8d5c",
   "metadata": {},
   "source": [
    "----"
   ]
  },
  {
   "cell_type": "code",
   "execution_count": 12,
   "id": "ceab640d",
   "metadata": {},
   "outputs": [
    {
     "data": {
      "text/plain": [
       "<KeysViewHDF5 ['lin0', 'lin1', 'lin2', 'lin3', 'lin4']>"
      ]
     },
     "execution_count": 12,
     "metadata": {},
     "output_type": "execute_result"
    }
   ],
   "source": [
    "hf = h5py.File('lpips_lin.h5', 'r')\n",
    "hf.keys()"
   ]
  },
  {
   "cell_type": "code",
   "execution_count": 13,
   "id": "fd797f3e",
   "metadata": {},
   "outputs": [],
   "source": [
    "for i in range(5):\n",
    "    file_weights = jnp.array(hf[f'lin{i}'])\n",
    "    param_weights = params['params'][f'lins_{i}']['layer']['kernel']\n",
    "    assert jnp.sum(file_weights != param_weights).item() == 0"
   ]
  },
  {
   "cell_type": "markdown",
   "id": "b2606c0a",
   "metadata": {},
   "source": [
    "----"
   ]
  }
 ],
 "metadata": {
  "kernelspec": {
   "display_name": "Python 3 (ipykernel)",
   "language": "python",
   "name": "python3"
  },
  "language_info": {
   "codemirror_mode": {
    "name": "ipython",
    "version": 3
   },
   "file_extension": ".py",
   "mimetype": "text/x-python",
   "name": "python",
   "nbconvert_exporter": "python",
   "pygments_lexer": "ipython3",
   "version": "3.9.12"
  }
 },
 "nbformat": 4,
 "nbformat_minor": 5
}
