{
 "cells": [
  {
   "cell_type": "markdown",
   "id": "b2e25d6d",
   "metadata": {},
   "source": [
    "# Perceptual loss"
   ]
  },
  {
   "cell_type": "markdown",
   "id": "dfab077c",
   "metadata": {},
   "source": [
    "The paper does not state whether VGG-16 or VGG-19 is used. I'll assume VGG-19."
   ]
  },
  {
   "cell_type": "code",
   "execution_count": 1,
   "id": "732ca162",
   "metadata": {},
   "outputs": [],
   "source": [
    "from flaxmodels import VGG19"
   ]
  },
  {
   "cell_type": "code",
   "execution_count": 2,
   "id": "db5e8f0c",
   "metadata": {},
   "outputs": [],
   "source": [
    "vgg19 = VGG19(output='activations', pretrained='imagenet', include_head=False)"
   ]
  },
  {
   "cell_type": "code",
   "execution_count": 3,
   "id": "f3ac3924",
   "metadata": {},
   "outputs": [],
   "source": [
    "import jax\n",
    "import jax.numpy as jnp\n",
    "import random"
   ]
  },
  {
   "cell_type": "code",
   "execution_count": 4,
   "id": "00629e4d",
   "metadata": {},
   "outputs": [],
   "source": [
    "seed = random.randint(0, 2**32 - 1)\n",
    "key = jax.random.PRNGKey(seed)\n",
    "qc = jax.random.normal(key, shape=(16, 256, 256, 3))"
   ]
  },
  {
   "cell_type": "code",
   "execution_count": 5,
   "id": "df6e543d",
   "metadata": {},
   "outputs": [],
   "source": [
    "vgg_params = vgg19.init(key, qc)"
   ]
  },
  {
   "cell_type": "code",
   "execution_count": 6,
   "id": "66aeef39",
   "metadata": {},
   "outputs": [],
   "source": [
    "key, subkey = jax.random.split(key)\n",
    "x = jax.random.normal(key, shape=(16, 256, 256, 3))\n",
    "output = jax.random.normal(subkey, shape=(16, 256, 256, 3))"
   ]
  },
  {
   "cell_type": "markdown",
   "id": "21258cc4",
   "metadata": {},
   "source": [
    "**TODO: verify normalization**"
   ]
  },
  {
   "cell_type": "code",
   "execution_count": 7,
   "id": "7a421ab1",
   "metadata": {},
   "outputs": [],
   "source": [
    "x_vgg = vgg19.apply(vgg_params, (x + 1)/2)\n",
    "output_vgg = vgg19.apply(vgg_params, (output + 1)/2)"
   ]
  },
  {
   "cell_type": "markdown",
   "id": "c921ef02",
   "metadata": {},
   "source": [
    "**TODO: verify in the paper.**"
   ]
  },
  {
   "cell_type": "code",
   "execution_count": 8,
   "id": "77714ac4",
   "metadata": {},
   "outputs": [],
   "source": [
    "vgg_layers = ['relu3_3', 'relu4_3', 'relu5_3']\n",
    "vgg_weights = [1e-3, 5e-3, 20e-3]"
   ]
  },
  {
   "cell_type": "code",
   "execution_count": 9,
   "id": "c13c41cd",
   "metadata": {},
   "outputs": [],
   "source": [
    "mse = lambda x, y: jnp.mean((x - y) ** 2)"
   ]
  },
  {
   "cell_type": "code",
   "execution_count": 10,
   "id": "329d50fa",
   "metadata": {},
   "outputs": [
    {
     "data": {
      "text/plain": [
       "DeviceArray(0.06175933, dtype=float32)"
      ]
     },
     "execution_count": 10,
     "metadata": {},
     "output_type": "execute_result"
    }
   ],
   "source": [
    "p_loss = 0\n",
    "for layer, w in zip(vgg_layers, vgg_weights):\n",
    "    layer_loss = w * mse(x_vgg[layer], output_vgg[layer])\n",
    "    p_loss += layer_loss\n",
    "p_loss"
   ]
  }
 ],
 "metadata": {
  "kernelspec": {
   "display_name": "Python 3 (ipykernel)",
   "language": "python",
   "name": "python3"
  },
  "language_info": {
   "codemirror_mode": {
    "name": "ipython",
    "version": 3
   },
   "file_extension": ".py",
   "mimetype": "text/x-python",
   "name": "python",
   "nbconvert_exporter": "python",
   "pygments_lexer": "ipython3",
   "version": "3.9.12"
  }
 },
 "nbformat": 4,
 "nbformat_minor": 5
}
